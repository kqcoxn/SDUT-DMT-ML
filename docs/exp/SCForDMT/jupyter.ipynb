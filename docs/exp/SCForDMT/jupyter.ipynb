{
 "cells": [
  {
   "cell_type": "markdown",
   "metadata": {},
   "source": [
    "# Python 基础语法\n",
    "\n",
    "## Python 环境安装与介绍\n",
    "\n",
    "参考教程：[python 安装教程](https://blog.csdn.net/qq_44809707/article/details/122449191)、[pycharm 安装教程，超详细 - CSDN](https://blog.csdn.net/qq_44809707/article/details/122501118)\n",
    "\n",
    "按照流程安装即可，注意路径最好不要出现中文。\n",
    "\n",
    "## 基础操作\n",
    "\n",
    "### 注释\n",
    "\n",
    "在对应位置标记代码意义，增加可读性\n"
   ]
  },
  {
   "cell_type": "code",
   "execution_count": null,
   "metadata": {},
   "outputs": [],
   "source": [
    "print('Hello World') # 输出“Hello World”"
   ]
  },
  {
   "cell_type": "markdown",
   "metadata": {},
   "source": [
    "也可以使用多行注释，用三个双引号或者单引号括起来，可以将注释内容包裹起来"
   ]
  },
  {
   "cell_type": "code",
   "execution_count": null,
   "metadata": {},
   "outputs": [],
   "source": [
    "\"\"\"\n",
    "print('Hello World')\n",
    "print('Hello World')\n",
    "\"\"\"\n",
    "print('Hello World') # 只会输出这一行"
   ]
  },
  {
   "cell_type": "markdown",
   "metadata": {},
   "source": [
    "### 标准输出\n",
    "\n",
    "`print()`函数：输出到控制台，可以输出多个值，用逗号隔开"
   ]
  },
  {
   "cell_type": "code",
   "execution_count": null,
   "metadata": {},
   "outputs": [],
   "source": [
    "print('Hello World 1','Hello World 2','Hello World 3')\n",
    "print()\n",
    "print('Hello Python')"
   ]
  },
  {
   "cell_type": "markdown",
   "metadata": {},
   "source": [
    "print()函数的常用参数：\n",
    "\n",
    "- `sep`：指定分隔符，默认是空格\n",
    "- `end`：指定结尾符，默认是换行符\n",
    "- `file`：指定输出文件，默认是控制台\n",
    "- `flush`：立即输出，默认是 False"
   ]
  },
  {
   "cell_type": "code",
   "execution_count": null,
   "metadata": {},
   "outputs": [],
   "source": [
    "import time\n",
    "\n",
    "print(\"Hello\", \"world\", sep=\", \", end=\"!\\n\")\n",
    "\n",
    "fp = open('test.txt', 'w') # 打开文件\n",
    "\n",
    "# 使用print()函数写入文件\n",
    "print('Hello, world!', file=fp)\n",
    "time.sleep(2) # 等待2秒\n",
    "print('Goodbye, world!', file=fp,flush=True)\n",
    "time.sleep(2) # 等待2秒\n",
    "\n",
    "fp.close() # 关闭文件"
   ]
  },
  {
   "cell_type": "markdown",
   "metadata": {},
   "source": [
    "## 标准输入\n",
    "\n",
    "`input()`"
   ]
  },
  {
   "cell_type": "code",
   "execution_count": null,
   "metadata": {},
   "outputs": [],
   "source": [
    "input('请输入用户名：')\n",
    "print({'ok':1})"
   ]
  },
  {
   "cell_type": "markdown",
   "metadata": {},
   "source": [
    "`input()`会等待用户输入，并返回输入的内容，可以用变量接收"
   ]
  },
  {
   "cell_type": "code",
   "execution_count": null,
   "metadata": {},
   "outputs": [],
   "source": [
    "age = input('请输入年龄：')\n",
    "print(age)"
   ]
  },
  {
   "cell_type": "markdown",
   "metadata": {},
   "source": [
    "可以用`type()`函数判断输入的数据类型"
   ]
  },
  {
   "cell_type": "code",
   "execution_count": null,
   "metadata": {},
   "outputs": [],
   "source": [
    "print(type(age))"
   ]
  },
  {
   "cell_type": "markdown",
   "metadata": {},
   "source": [
    "### 变量\n",
    "\n",
    "变量就是存储数据的容器，例如：求长方形面积，长 10，宽 5 变量 x、y、s"
   ]
  },
  {
   "cell_type": "code",
   "execution_count": null,
   "metadata": {},
   "outputs": [],
   "source": [
    "x = 10\n",
    "y = 5\n",
    "s = x*y\n",
    "print(s)"
   ]
  },
  {
   "cell_type": "markdown",
   "metadata": {},
   "source": [
    "一个变量可以进行多次赋值，对应内存中改变的是指向"
   ]
  },
  {
   "cell_type": "code",
   "execution_count": null,
   "metadata": {},
   "outputs": [],
   "source": [
    "x=100\n",
    "x=50\n",
    "print(x)"
   ]
  },
  {
   "cell_type": "markdown",
   "metadata": {},
   "source": [
    "变量的名字是不固定的，我们可以自己定义，区分大小写。\n",
    "\n",
    "在命名时需要注意：\n",
    "\n",
    "- 不能以数字开头\n",
    "- 不能包含空格、标点符号、特殊字符\n",
    "- 尽量简短易懂\n",
    "- 尽量避免与关键字冲突"
   ]
  },
  {
   "cell_type": "code",
   "execution_count": null,
   "metadata": {},
   "outputs": [],
   "source": [
    "fast_food = True # 快餐\n",
    "print(fast_food)"
   ]
  },
  {
   "cell_type": "markdown",
   "metadata": {},
   "source": [
    "> 常见的关键字：`and`、`as`、`assert`、`break`、`class`、`continue`、`def`、`del`、`elif`、`else`、`except`、`False`、`finally`、`for`、`from`、`global`、`if`、`import`、`in`、`is`、`lambda`、`None`、`nonlocal`、`not`、`or`、`pass`、`raise`、`return`、`True`、`try`、`while`、`with`、`yield`\n",
    "\n",
    "变量可以连续赋值，需要保证变量的个数和值的个数一致"
   ]
  },
  {
   "cell_type": "code",
   "execution_count": null,
   "metadata": {},
   "outputs": [],
   "source": [
    "num1,num2=1,2\n",
    "\n",
    "'''等同于：\n",
    "num1=1\n",
    "num2=2\n",
    "'''\n",
    "\n",
    "print(num1,num2)"
   ]
  },
  {
   "cell_type": "markdown",
   "metadata": {},
   "source": [
    "交换两个变量的值（`swap()`函数）："
   ]
  },
  {
   "cell_type": "code",
   "execution_count": null,
   "metadata": {},
   "outputs": [],
   "source": [
    "num1=10\n",
    "num2=20\n",
    "\n",
    "temp=num1\n",
    "num1=num2\n",
    "num2=temp\n",
    "'''等同于：\n",
    "num1,num2=num2,num1\n",
    "print(num1,num2)\n",
    "'''\n",
    "\n",
    "print(num1,num2)"
   ]
  },
  {
   "cell_type": "markdown",
   "metadata": {},
   "source": [
    "### 数据类型\n",
    "\n",
    "Python 中有五种基本数据类型：\n",
    "\n",
    "- 整型（`int`）：整数，如 `1`、`2`、`3`\n",
    "- 浮点型（`float`）：小数，如 `3.14`、`2.5`\n",
    "- 字符串型（`str`）：字符串，如 `'Hello World'`、`''`\n",
    "- 布尔型（`bool`）：布尔值，如 `True`、`False`\n",
    "- 空值（`None`）：空值，如 `None`\n",
    "\n",
    "Python 中还有一些复合数据类型：\n",
    "\n",
    "- 列表（`list`）：有序集合，元素可以重复，如 `[1, 2, 3]`、`['apple', 'banana', 'orange']`\n",
    "- 元组（`tuple`）：有序集合，元素不可修改，如 `(1, 2, 3)`、`('apple', 'banana', 'orange')`\n",
    "- 字典（`dict`）：无序集合，元素是键值对，如 `{'name': 'Alice', 'age': 25}`\n",
    "- 集合（`set`）：无序集合，元素不可重复，如 `{1, 2, 3}`、`{'apple', 'banana', 'orange'}`\n",
    "\n",
    "> 注：分类方法可能与其他不同\n",
    "\n",
    "数值类型也可以表示复数，由实部和虚部组成："
   ]
  },
  {
   "cell_type": "code",
   "execution_count": null,
   "metadata": {},
   "outputs": [],
   "source": [
    "com = complex(1,2)  # com=1+2i\n",
    "print(com)"
   ]
  },
  {
   "cell_type": "markdown",
   "metadata": {},
   "source": [
    "可以使用 `int()`、`float()`、`str()`、`bool()` 等函数进行类型转换："
   ]
  },
  {
   "cell_type": "code",
   "execution_count": null,
   "metadata": {},
   "outputs": [],
   "source": [
    "num = 123.1\n",
    "print(num)\n",
    "\n",
    "str_num = str(num)\n",
    "print(str_num)\n",
    "\n",
    "float_num = float(str_num)\n",
    "print(float_num)\n",
    "\n",
    "int_num = int(float_num)\n",
    "print(int_num)\n",
    "\n",
    "bool_num = bool(int_num) # 非0(0、0.0、’’、[]、{})即True\n",
    "print(bool_num)"
   ]
  },
  {
   "cell_type": "markdown",
   "metadata": {},
   "source": [
    "### 运算符\n",
    "\n",
    "Python 中有以下运算符：\n",
    "\n",
    "- 算术运算符：`+`、`-`、`*`、`/`、`//`、`%`\n",
    "- 赋值运算符：`=`、`+=`、`-=`、`*=`、`/=`、`//=`、`%=`\n",
    "- 比较运算符：`==`、`!=`、`>`、`>=`、`<=`\n",
    "- 逻辑运算符：`and`、`or`、`not`\n",
    "- 位运算符：`&`、`|`、`^`、`~`、`<<`、`>>`\n",
    "- 成员运算符：`in`、`not in`\n",
    "- 身份运算符：`is`、`is not`\n",
    "\n",
    "运算符的优先级：\n",
    "\n",
    "- 1. 圆括号 `()`\n",
    "- 2. 乘除法 `*`, `/`, `//`, `%`\n",
    "- 3. 加减法 `+`, `-`\n",
    "- 4. 移位运算符 `<<`, `>>`\n",
    "- 5. 位运算符 `&`, `^`, `|`\n",
    "- 6. 比较运算符 `<`, `<=`, `>`, `>=`\n",
    "- 7. 等于运算符 `==`, `!=`\n",
    "- 8. 赋值运算符 `=`, `+=`, `-=`, `*=`, `/=`, `//=`, `%=`\n",
    "- 9. 逻辑运算符 `not`, `and`, `or`\n",
    "- 10. 成员运算符 `in`, `not in`\n",
    "- 11. 身份运算符 `is`, `is not`\n",
    "\n",
    "例如："
   ]
  },
  {
   "cell_type": "code",
   "execution_count": null,
   "metadata": {},
   "outputs": [],
   "source": [
    "a = 10\n",
    "b = 5\n",
    "b+=1\n",
    "c = a + b * 2 / 3\n",
    "print(c)\n",
    "\n",
    "print(1>2 and 3>2)\n",
    "print(2>1 and 3>2)\n",
    "print(1>2 or 3>2)"
   ]
  },
  {
   "cell_type": "markdown",
   "metadata": {},
   "source": [
    "## 控制语句\n",
    "\n",
    "### 分支控制语句\n",
    "\n",
    "1.`if` 语句：\n",
    "\n",
    "```python\n",
    "if 条件表达式:\n",
    "    语句块\n",
    "```\n",
    "\n",
    "2.`if-else` 语句：\n",
    "\n",
    "```python\n",
    "if 条件表达式:\n",
    "    语句块1\n",
    "else:\n",
    "    语句块2\n",
    "```\n",
    "\n",
    "3.`if-elif-else` 语句：\n",
    "\n",
    "```python\n",
    "if 条件表达式1:\n",
    "    语句块1\n",
    "elif 条件表达式2:\n",
    "    语句块2\n",
    "elif 条件表达式3:\n",
    "    语句块3\n",
    "else:\n",
    "    语句块4\n",
    "```\n",
    "\n",
    "例如，我有200元。我去买玩具，我需要对比玩具的价格和兜里的钱的大小："
   ]
  },
  {
   "cell_type": "code",
   "execution_count": null,
   "metadata": {},
   "outputs": [],
   "source": [
    "money = 10000\n",
    "TV_money = int(input('请输入电视价格：'))\n",
    "if 3000 <= TV_money < 6000:\n",
    "    print('直接购买')\n",
    "elif TV_money < 3000:\n",
    "    print('太便宜，不买')\n",
    "elif 6000 <= TV_money <= 10000:\n",
    "    print('我再考虑考虑')\n",
    "else:\n",
    "    print('肯定不买')"
   ]
  },
  {
   "cell_type": "markdown",
   "metadata": {},
   "source": [
    "> 注意：与 C 不同的是，Python 不需要使用`{}`来包裹语句块，而是使用缩进（Tab 键）来表示语句块的层次关系。\n",
    "\n",
    "分支也可以嵌套：\n",
    "\n",
    "```python\n",
    "if 条件表达式1:\n",
    "    符合条件表达式1执行的代码\n",
    "    if 条件表达式1.1:\n",
    "        符合条件表达式1并且符合条件表达式1.1执行的代码\n",
    "    elif 条件表达式1.2:\n",
    "        符合条件表达式1不符合条件表达式1.1并且符合条件表达式1.2执行的代码\n",
    "elif 条件表达式2:\n",
    "    不符合条件表达式1符合条件表达式2执行的代码\n",
    "else:\n",
    "    既不符合条件表达式1又不符合条件表达式2执行的代码\n",
    "```\n",
    "\n",
    "### 循环控制语句\n",
    "\n",
    "循环控制语句可以分为 for 循环和 while 循环。\n",
    "\n",
    "1.`for` 循环：\n",
    "\n",
    "```python\n",
    "for 临时变量 in 可迭代对象:\n",
    "    循环体\n",
    "```\n",
    "\n",
    "可迭代对象包括`range()`函数、字符串、列表、字典等等\n",
    "\n",
    "例如："
   ]
  },
  {
   "cell_type": "code",
   "execution_count": null,
   "metadata": {},
   "outputs": [],
   "source": [
    "for i in range(1, 10, 2):\n",
    "    print(i)"
   ]
  },
  {
   "cell_type": "markdown",
   "metadata": {},
   "source": [
    "其中，`range()`函数的三个参数分别是起始值、结束值、步长：\n",
    "\n",
    "```python\n",
    "range(start, stop, step)\n",
    "```\n",
    "\n",
    "- `start`：起始值，默认为 0\n",
    "- `stop`：结束值，不包含该值\n",
    "- `step`：步长，默认为 1\n",
    "\n",
    "> 注意：`range()`函数至少要传一个参数，如果传一个参数，代表此参数是 `stop`\n",
    "\n",
    "range()的参数可以为正，可以为负，步长的正负，可以理解成坐标轴的正负方向。\n",
    "\n",
    "例如："
   ]
  },
  {
   "cell_type": "code",
   "execution_count": null,
   "metadata": {},
   "outputs": [],
   "source": [
    "for i in range(1,3,-1):\n",
    "    print(i)\n",
    "# 什么都不打印\n",
    "\n",
    "for i in range(3,1,-1):\n",
    "    print(i)"
   ]
  },
  {
   "cell_type": "markdown",
   "metadata": {},
   "source": [
    "#### for-else 循环\n",
    "\n",
    "- 如果循环正常退出(没有执行 `break`)，会执行 `else` 代码\n",
    "- 如果循环不正常退出(有执行 `break`)，则不会执行 `else` 代码\n",
    "\n",
    "控制循环的关键字：`break`（中止，强制退出循环） 和 `continue`（继续，退出本次循环）\n",
    "\n",
    "- `break` 用于终止当前循环，并跳出循环体\n",
    "- `continue` 用于跳过当前循环，直接进入下一次循环\n",
    "\n",
    "例如："
   ]
  },
  {
   "cell_type": "code",
   "execution_count": null,
   "metadata": {},
   "outputs": [],
   "source": [
    "for i in range(1, 10):\n",
    "    if i == 5:\n",
    "        break\n",
    "    print(i)\n",
    "else:\n",
    "    print('循环正常结束')\n",
    "\n",
    "print('循环1结束')\n",
    "\n",
    "for i in range(1, 10):\n",
    "    if i == 5:\n",
    "        continue\n",
    "    print(i)\n",
    "else:\n",
    "    print('循环正常结束')"
   ]
  },
  {
   "cell_type": "markdown",
   "metadata": {},
   "source": [
    "for 循环的循环嵌套：先运行外层循环，在运行内层循环\n",
    "\n",
    "```python\n",
    "for 临时变量1 in 可迭代对象:\n",
    "    循环体\n",
    "    for 临时变量2 in 可迭代对象:\n",
    "        循环体\n",
    "```\n",
    "\n",
    "## 调试\n",
    "\n",
    "1. 在需要断点的地方打上断点，点击左侧的小圆点，会出现一个红点\n",
    "2. 点击右侧的调试按钮，会出现调试选项，选择 Python Debugging\n",
    "3. 点击绿色的开始调试按钮，程序会暂停在断点处，可以查看变量的值、调用堆栈、控制台输出等\n",
    "4. 点击红色的停止调试按钮，程序会继续运行\n",
    "\n",
    "## 字符串\n",
    "\n",
    "### 字符串操作\n",
    "\n",
    "只要被单引号或双引号或者三引号包裹起来的内容都是字符串。字符串属于不可变类型，字符串中的内容一旦被定义，则无法进行更改。\n",
    "\n",
    "字符串不可于数字相加。"
   ]
  },
  {
   "cell_type": "code",
   "execution_count": null,
   "metadata": {},
   "outputs": [],
   "source": [
    "name = 'zhangsan'\n",
    "name = \"zhangsan\"\n",
    "name = \"\"\"zhangsan\"\"\" # 如果三引号没有变量接收，那么是注释，如果有变量接收，则为字符串\n",
    "print(name)"
   ]
  },
  {
   "cell_type": "markdown",
   "metadata": {},
   "source": [
    "字符串是一个有序的序列，可以用索引来访问字符串中的元素。索引从 0 开始，从左到右，从上到下。"
   ]
  },
  {
   "cell_type": "code",
   "execution_count": null,
   "metadata": {},
   "outputs": [],
   "source": [
    "str = 'hello world'\n",
    "print(str[0]) # h\n",
    "print(str[6]) # d\n",
    "print(str[-1]) # d\n",
    "print(str[-2]) # l"
   ]
  },
  {
   "cell_type": "markdown",
   "metadata": {},
   "source": [
    "字符串的常用操作有：\n",
    "\n",
    "1. 字符串的拼接：`+`\n",
    "2. 字符串的重复：`*`\n",
    "3. 字符串的切片：`[start:end:step]`\n",
    "\n",
    "例如："
   ]
  },
  {
   "cell_type": "code",
   "execution_count": null,
   "metadata": {},
   "outputs": [],
   "source": [
    "str1 = 'hello'\n",
    "str2 = 'world'\n",
    "str3 = str1 + str2\n",
    "print(str3) # helloworld\n",
    "\n",
    "\n",
    "str4 = 'hello' * 3\n",
    "print(str4) # hellohellohello\n",
    "\n",
    "str5 = 'hello world'\n",
    "print(str5[0:5]) # hello\n",
    "print(str5[6:11]) # world\n",
    "print(str5[::2]) # hlowrd"
   ]
  },
  {
   "cell_type": "markdown",
   "metadata": {},
   "source": [
    "如果我们想要倒叙输出一个字符串（将“python”输出成“nohtyp”）：\n",
    "\n",
    "```\n",
    "word = 'python'\n",
    "A.word[-1:0:-1]  # nohty\n",
    "B.word[::-1]     # nohtyp\n",
    "C.word[-1::-1]   # nohtyp\n",
    "D.word[-1:-7:-1] # nohtyp\n",
    "```\n",
    "\n",
    "正确答案：`B` `C` `D`\n",
    "\n",
    "如果我们想遍历字符串："
   ]
  },
  {
   "cell_type": "code",
   "execution_count": null,
   "metadata": {},
   "outputs": [],
   "source": [
    "for char in 'hello world':\n",
    "    print(char)"
   ]
  },
  {
   "cell_type": "markdown",
   "metadata": {},
   "source": [
    "### 常用方法\n",
    "\n",
    "字符串的方法很多，但我们最常用的其实就那么几个：\n",
    "\n",
    "- `len()`：获取字符串的长度\n",
    "- `find(str)`：查找子串的位置，如果不存在，返回 -1\n",
    "- `replace(old, new)`：替换子串\n",
    "- `split(str)`：以指定字符串分割字符串，返回列表\n",
    "- `join(list)`：以指定列表中的元素连接字符串，返回字符串\n",
    "- `isdigit()`：判断字符串是否为数字\n",
    "- `isalpha()`：判断字符串是否为字母\n",
    "- `isalnum()`：判断字符串是否为字母或数字\n",
    "- `lower()`：转换为小写\n",
    "- `upper()`：转换为大写\n",
    "- `capitalize()`：首字母大写\n",
    "- `title()`：每个单词首字母大写\n",
    "- `strip()`：去除两端空格\n",
    "- `lstrip()`：去除左侧空格\n",
    "- `rstrip()`：去除右侧空格\n",
    "- `startswith(str)`：判断字符串是否以指定字符串开头\n",
    "- `endswith(str)`：判断字符串是否以指定字符串结尾\n",
    "- `center(width)`：将字符串居中，并在两侧填充指定字符\n",
    "- `ljust(width)`：将字符串左对齐，并在右侧填充指定字符\n",
    "- `rjust(width)`：将字符串右对齐，并在左侧填充指定字符\n",
    "\n",
    "看着很多，但实际上用到某个需求的时候直接查就行。\n",
    "\n",
    "例如："
   ]
  },
  {
   "cell_type": "code",
   "execution_count": null,
   "metadata": {},
   "outputs": [],
   "source": [
    "# 字符串切分\n",
    "str = 'hello world'\n",
    "print(len(str))  # 11\n",
    "print(str.find('l'))  # 2\n",
    "print(str.replace('l', 'L'))  # heLLo world\n",
    "print(str.split('o'))  # ['hell', ' w', 'rld']\n",
    "print(' '.join(['hello', 'world']))  # hello world\n",
    "\n",
    "# 字符串判断\n",
    "str = '12345'\n",
    "print(str.isdigit())  # True\n",
    "print(str.isalpha())  # False\n",
    "print(str.isalnum())  # True\n",
    "\n",
    "# 字符串转换\n",
    "str = 'HELLO WORLD'\n",
    "print(str.lower())  # hello world\n",
    "print(str.upper())  # HELLO WORLD\n",
    "print(str.capitalize())  # Hello world\n",
    "print(str.title())  # Hello World\n",
    "\n",
    "# 去除空格\n",
    "str = 'hello world '\n",
    "print(str.strip())  # hello world\n",
    "print(str.lstrip())  # hello world\n",
    "print(str.rstrip())  # hello world\n",
    "\n",
    "# 字符串判断\n",
    "str = 'hello world'\n",
    "print(str.startswith('he'))  # True\n",
    "print(str.endswith('ld'))  # True\n",
    "\n",
    "# 字符串对齐\n",
    "str = 'hello'\n",
    "print(str.center(10, '*'))  # **hello**\n",
    "print(str.ljust(10, '*'))  # hello****\n",
    "print(str.rjust(10, '*'))  # ****hello"
   ]
  },
  {
   "cell_type": "markdown",
   "metadata": {},
   "source": [
    "如果一个方法返回的结果正好是下一步方法所需要的对象，那么可以使用链式调用，例如："
   ]
  },
  {
   "cell_type": "code",
   "execution_count": null,
   "metadata": {},
   "outputs": [],
   "source": [
    "str = '  hello world  '\n",
    "new_str = str.strip().replace('l', 'w').upper()\n",
    "print(new_str)"
   ]
  },
  {
   "cell_type": "markdown",
   "metadata": {},
   "source": [
    "### 字符串格式化\n",
    "\n",
    "如果我们需要将多个参数按照指定格式输出，可以使用字符串格式化："
   ]
  },
  {
   "cell_type": "code",
   "execution_count": null,
   "metadata": {},
   "outputs": [],
   "source": [
    "name = 'zhangsan'\n",
    "age = 25\n",
    "print('我的名字是%s，今年%d岁了' % (name, age))"
   ]
  },
  {
   "cell_type": "markdown",
   "metadata": {},
   "source": [
    "其中`%`为格式化符号，在字符串中使用 `%s`、`%d`、`%f` 等来表示字符串、整数、浮点数\n",
    "\n",
    "也可以使用`format()`方法，在字符串中使用 `{}` 来表示需要输出的参数："
   ]
  },
  {
   "cell_type": "code",
   "execution_count": null,
   "metadata": {},
   "outputs": [],
   "source": [
    "name = 'zhangsan'\n",
    "age = 25\n",
    "print('我的名字是{0}，今年{1}岁了'.format(name, age))"
   ]
  },
  {
   "cell_type": "markdown",
   "metadata": {},
   "source": [
    "其中， `{0}`、`{1}` 等为参数的编号，在 `format()` 方法中使用 `{}` 来表示需要输出的参数。"
   ]
  },
  {
   "cell_type": "markdown",
   "metadata": {},
   "source": [
    "## 列表\n",
    "\n",
    "列表是 Python 中最常用的复合数据类型，它可以存储多个元素，元素可以是任意类型。\n",
    "\n",
    "### 常用操作\n",
    "\n",
    "列表的创建："
   ]
  },
  {
   "cell_type": "code",
   "execution_count": null,
   "metadata": {},
   "outputs": [],
   "source": [
    "list1 = [1, 2, 3, 4, 5]\n",
    "list2 = ['apple', 'banana', 'orange']\n",
    "list3 = [1, 'apple', 3.14, True]\n",
    "print(list1)\n",
    "print(list2)\n",
    "print(list3)"
   ]
  },
  {
   "cell_type": "markdown",
   "metadata": {},
   "source": [
    "索引与赋值："
   ]
  },
  {
   "cell_type": "code",
   "execution_count": null,
   "metadata": {},
   "outputs": [],
   "source": [
    "list1 = [1, 2, 3, 4, 5]\n",
    "print(list1[0])  # 1\n",
    "list1[0] = 10\n",
    "print(list1)  # [10, 2, 3, 4, 5]"
   ]
  },
  {
   "cell_type": "markdown",
   "metadata": {},
   "source": [
    "列表支持序列解包操作："
   ]
  },
  {
   "cell_type": "code",
   "execution_count": null,
   "metadata": {},
   "outputs": [],
   "source": [
    "list1 = [1, 2, 3, 4, 5]\n",
    "a, b, *c, d, e = list1\n",
    "print(a)  # 1\n",
    "print(b)  # 2\n",
    "print(c)  # [3, 4]\n",
    "print(d)  # 5\n",
    "print(e)  # 5"
   ]
  },
  {
   "cell_type": "markdown",
   "metadata": {},
   "source": [
    "列表的切片操作与字符串的一样，但返回的是列表："
   ]
  },
  {
   "cell_type": "code",
   "execution_count": null,
   "metadata": {},
   "outputs": [],
   "source": [
    "list1 = [1, 2, 3, 4, 5]\n",
    "print(list1[1:3])  # [2, 3]\n",
    "print(list1[::2])  # [1, 3, 5]"
   ]
  },
  {
   "cell_type": "markdown",
   "metadata": {},
   "source": [
    "### 列表方法\n",
    "\n",
    "常用的列表方法有：\n",
    "\n",
    "- `len()`：获取列表的长度\n",
    "- `append(obj)`：在列表末尾添加元素\n",
    "- `pop(index)`：删除指定位置的元素，并返回该元素\n",
    "- `extend(list)`：在列表末尾添加另一个列表\n",
    "- `index(obj)`：查找元素的位置，如果不存在，抛出 `ValueError` 异常\n",
    "- `count(obj)`：统计元素出现的次数\n",
    "- `sort()`：对列表进行排序\n",
    "- `reverse()`：对列表进行反转\n",
    "- `clear()`：清空列表\n",
    "- `insert(index, obj)`：在指定位置插入元素\n",
    "- `remove(obj)`：删除指定元素，如果不存在，抛出 `ValueError` 异常\n",
    "- `copy()`：复制列表\n",
    "- `join(str)`：以指定字符串连接列表元素，返回字符串\n",
    "\n",
    "例如："
   ]
  },
  {
   "cell_type": "code",
   "execution_count": null,
   "metadata": {},
   "outputs": [],
   "source": [
    "list1 = [1, 2, 3, 4, 5]\n",
    "list2 = [6, 7, 8, 9, 10]\n",
    "list1.append(6)\n",
    "list1.pop(2)\n",
    "list1.extend(list2)\n",
    "print(list1)  # [1, 2, 4, 5, 6, 7, 8, 9, 10]\n",
    "print(list1.index(5))  # 3\n",
    "print(list1.count(5))  # 1\n",
    "list1.sort()\n",
    "list1.reverse()\n",
    "list1.clear()\n",
    "print(list1)  # []\n",
    "list1.insert(0, 1)\n",
    "list1.remove(1)\n",
    "list1.append(2)\n",
    "list1_copy = list1.copy()\n",
    "print(list1_copy)  # [2]"
   ]
  },
  {
   "cell_type": "markdown",
   "metadata": {},
   "source": [
    "### 列表推导式\n",
    "\n",
    "列表推导式是一种创建列表的简洁方式，可以根据某种条件筛选出符合条件的元素，并将其转换为新的列表。\n",
    "\n",
    "语法：\n",
    "\n",
    "```python\n",
    "new_list = [expression for item in iterable if condition]\n",
    "```\n",
    "\n",
    "其中：\n",
    "\n",
    "- `expression`：表达式，用于生成新元素\n",
    "- `item`：可迭代对象中的元素\n",
    "- `iterable`：可迭代对象，如列表、元组、字符串\n",
    "- `condition`：可选，用于筛选元素的条件\n",
    "\n",
    "例如："
   ]
  },
  {
   "cell_type": "code",
   "execution_count": null,
   "metadata": {},
   "outputs": [],
   "source": [
    "list1 = [1, 2, 3, 4, 5]\n",
    "list2 = [x**2 for x in list1 if x % 2 == 0]\n",
    "print(list2)  # [4, 16]"
   ]
  },
  {
   "cell_type": "markdown",
   "metadata": {},
   "source": [
    "### 列表嵌套\n",
    "\n",
    "列表可以嵌套列表，即一个列表的元素可以是多个其他列表，一般用于表示多维数组。\n",
    "\n",
    "例如："
   ]
  },
  {
   "cell_type": "code",
   "execution_count": null,
   "metadata": {},
   "outputs": [],
   "source": [
    "list1 = [1, 2, 3]\n",
    "list2 = [4, 5, 6]\n",
    "list3 = [7, 8, 9]\n",
    "list4 = [list1, list2, list3]\n",
    "print(list4)  # [[1, 2, 3], [4, 5, 6], [7, 8, 9]]"
   ]
  },
  {
   "cell_type": "markdown",
   "metadata": {},
   "source": [
    "## 字典\n",
    "\n",
    "字典是 Python 中另一种常用的复合数据类型，它是无序的键值对集合，使用`{\"key\":\"value\"}`，键值对来确定字典，以逗号分隔，以大括号去包裹的序列。\n",
    "\n",
    "### 常用操作\n",
    "\n",
    "字典的创建："
   ]
  },
  {
   "cell_type": "code",
   "execution_count": null,
   "metadata": {},
   "outputs": [],
   "source": [
    "dict1 = {'name': 'zhangsan', 'age': 25}\n",
    "dict2 = {'name': 'lisi', 'age': 26}\n",
    "dict3 = {'name': 'wangwu', 'age': 27}\n",
    "print(dict1)\n",
    "print(dict2)\n",
    "print(dict3)"
   ]
  },
  {
   "cell_type": "markdown",
   "metadata": {},
   "source": [
    "索引与赋值："
   ]
  },
  {
   "cell_type": "code",
   "execution_count": null,
   "metadata": {},
   "outputs": [],
   "source": [
    "dict1 = {'name': 'zhangsan', 'age': 25}\n",
    "print(dict1['name'])  # zhangsan\n",
    "dict1['age'] = 26\n",
    "print(dict1)  # {'name': 'zhangsan', 'age': 26}"
   ]
  },
  {
   "cell_type": "markdown",
   "metadata": {},
   "source": [
    "字典的键必须是不可变类型，如字符串、数字、元组等。\n",
    "\n",
    "### 字典方法\n",
    "\n",
    "常用的字典方法有：\n",
    "\n",
    "- `len()`：获取字典的长度\n",
    "- `keys()`：获取字典的键列表\n",
    "- `values()`：获取字典的值列表\n",
    "- `items()`：获取字典的键值对列表\n",
    "- `get(key, default=None)`：获取指定键的值，如果不存在，返回默认值\n",
    "- `pop(key)`：删除指定键的值，并返回该值\n",
    "- `popitem()`：随机删除一个键值对，并返回该键值对\n",
    "- `update(dict)`：更新字典\n",
    "- `clear()`：清空字典\n",
    "- `dict()`：将序列转换为字典\n",
    "\n",
    "例如："
   ]
  },
  {
   "cell_type": "code",
   "execution_count": null,
   "metadata": {},
   "outputs": [],
   "source": [
    "dict1 = {'name': 'zhangsan', 'age': 25}\n",
    "dict2 = {'name': 'lisi', 'age': 26}\n",
    "dict1.update(dict2)\n",
    "print(dict1)  # {'name': 'lisi', 'age': 26}\n",
    "print(dict1.keys())  # dict_keys(['name', 'age'])\n",
    "print(dict1.values())  # dict_values(['lisi', 26])\n",
    "print(dict1.items())  # dict_items([('name', 'lisi'), ('age', 26)])\n",
    "print(dict1.get('name'))  # lisi\n",
    "print(dict1.get('gender', 'unknown'))  # unknown\n",
    "dict1.pop('age')\n",
    "print(dict1)  # {'name': 'lisi'}\n",
    "dict1.popitem()\n",
    "print(dict1)  # {}\n",
    "dict1.clear()\n",
    "print(dict1)  # {}\n",
    "dict3 = dict([('name', 'zhangsan'), ('age', 25)])\n",
    "print(dict3)  # {'name': 'zhangsan', 'age': 25}"
   ]
  },
  {
   "cell_type": "markdown",
   "metadata": {},
   "source": [
    "## 元组\n",
    "\n",
    "元组是 Python 中另一种不可变的复合数据类型，它是一系列不可变的元素组成的序列，使用`()`来表示。\n",
    "\n",
    "### 常用操作\n",
    "\n",
    "元组的创建："
   ]
  },
  {
   "cell_type": "code",
   "execution_count": null,
   "metadata": {},
   "outputs": [],
   "source": [
    "tuple1 = (1, 2, 3, 4, 5)\n",
    "tuple2 = ('apple', 'banana', 'orange')\n",
    "tuple3 = (1, 'apple', 3.14, True)\n",
    "print(tuple1)\n",
    "print(tuple2)\n",
    "print(tuple3)"
   ]
  },
  {
   "cell_type": "markdown",
   "metadata": {},
   "source": [
    "索引与赋值："
   ]
  },
  {
   "cell_type": "code",
   "execution_count": null,
   "metadata": {},
   "outputs": [],
   "source": [
    "tuple1 = (1, 2, 3, 4, 5)\n",
    "print(tuple1[0])  # 1\n",
    "tuple1[0] = 10  # TypeError: 'tuple' object does not support item assignment"
   ]
  },
  {
   "cell_type": "markdown",
   "metadata": {},
   "source": [
    "元组的切片操作与字符串、列表的一样，但返回的是元组："
   ]
  },
  {
   "cell_type": "code",
   "execution_count": null,
   "metadata": {},
   "outputs": [],
   "source": [
    "tuple1 = (1, 2, 3, 4, 5)\n",
    "print(tuple1[1:3])  # (2, 3)\n",
    "print(tuple1[::2])  # (1, 3, 5)"
   ]
  },
  {
   "cell_type": "markdown",
   "metadata": {},
   "source": [
    "### 常用方法\n",
    "\n",
    "常用的元组方法有：\n",
    "\n",
    "- `len()`：获取元组的长度\n",
    "- `count(obj)`：统计元素出现的次数\n",
    "- `index(obj)`：查找元素的位置，如果不存在，抛出 `ValueError` 异常\n",
    "- `tuple()`：将序列转换为元组\n",
    "- `map(func, iterable)`：将函数应用到序列的每个元素，并返回结果的元组\n",
    "- `zip(iterable1, iterable2)`：将两个序列的元素打包成一个元组列表\n",
    "- `del()`：删除元组\n",
    "\n",
    "例如："
   ]
  },
  {
   "cell_type": "code",
   "execution_count": null,
   "metadata": {},
   "outputs": [],
   "source": [
    "tuple1 = (1, 2, 3, 4, 5)\n",
    "print(len(tuple1))  # 5\n",
    "print(tuple1.count(3))  # 1\n",
    "print(tuple1.index(3))  # 2\n",
    "tuple2 = tuple(range(1, 6))\n",
    "print(tuple2)  # (1, 2, 3, 4, 5)\n",
    "tuple3 = tuple(map(lambda x: x**2, range(1, 6)))\n",
    "print(tuple3)  # (1, 4, 9, 16, 25)\n",
    "tuple4 = tuple(zip('abc', range(1, 4)))\n",
    "print(tuple4)  # (('a', 1), ('b', 2), ('c', 3))\n",
    "del (tuple1)  # TypeError: 'tuple' object doesn't support item deletion"
   ]
  },
  {
   "cell_type": "markdown",
   "metadata": {},
   "source": [
    "### 元组与列表的区别\n",
    "\n",
    "1. 元组的元素不能修改，不能添加或删除元素，只能读取元素。\n",
    "2. 元组的元素是不可变的，因此元组是不可变的，而列表是可变的。\n",
    "3. 元组的创建速度比列表快，因为元组是不可变的，因此不需要创建新的对象，而列表是可变的，因此需要创建新的对象。\n",
    "4. 元组的元素是有序的，列表的元素是无序的。\n",
    "\n",
    "## 文件操作\n",
    "\n",
    "### open()函数\n",
    "\n",
    "内置函数`open()`可以打开文件，并返回一个文件对象，可以对文件进行读写操作，其接收参数如下：\n",
    "\n",
    "```python\n",
    "open(file, mode='r', buffering=-1, encoding=None, errors=None, newline=None, closefd=True, opener=None)\n",
    "```\n",
    "\n",
    "其中：\n",
    "\n",
    "- `file`：文件名或文件描述符，如果是文件名，则打开文件，如果是文件描述符，则直接使用该文件。\n",
    "- `mode`：打开文件的模式，默认为`r`，表示只读模式，其他可选模式有：\n",
    "  - `r`：只读模式，文件必须存在，否则抛出`FileNotFoundError`异常。\n",
    "  - `w`：写入模式，文件不存在则创建，存在则覆盖，如果文件不存在，则创建文件，如果文件存在，则清空文件内容。\n",
    "  - `x`：新建模式，文件必须不存在，否则抛出`FileExistsError`异常。\n",
    "  - `a`：追加模式，文件不存在则创建，存在则在文件末尾追加。\n",
    "  - `+`：读写模式，文件必须存在，否则抛出`FileNotFoundError`异常。\n",
    "  - `U`：文本模式，文件必须存在，否则抛出`FileNotFoundError`异常。\n",
    "- `buffering`：缓冲区大小，默认为`-1`，表示系统默认缓冲区大小。\n",
    "- `encoding`：编码格式，默认为`None`，表示系统默认编码格式。\n",
    "- `errors`：错误处理方案，默认为`None`，表示系统默认错误处理方案。\n",
    "- `newline`：行结束符，默认为`None`，表示系统默认行结束符。\n",
    "- `closefd`：是否关闭文件描述符，默认为`True`，表示关闭。\n",
    "- `opener`：用于指定打开文件的函数，默认为`None`，表示系统默认打开函数。\n",
    "\n",
    "一般我们只需要用到前三个参数。\n",
    "\n",
    "当对文件进行读写操作时，需要先打开文件，然后使用文件对象的`read()`、`write()`、`readline()`等方法进行读写操作，最后需要使用`close()`方法关闭文件。\n",
    "\n",
    "常用的方法包括：\n",
    "\n",
    "- `read(size=-1)`：读取文件内容，如果`size`为`-1`，则读取整个文件，否则读取指定大小的内容。\n",
    "- `readline(size=-1)`：读取一行内容，如果`size`为`-1`，则读取一整行，否则读取指定大小的内容。\n",
    "- `readlines()`：读取所有行内容，并返回列表。\n",
    "- `write(string)`：写入内容到文件末尾。\n",
    "- `seek(offset, whence=0)`：移动文件读取指针到指定位置。\n",
    "- `tell()`：获取文件读取指针当前位置。\n",
    "- `close()`：关闭文件。\n",
    "\n",
    "### with 语句\n",
    "\n",
    "Python 2.5 引入了`with`语句，可以自动帮我们调用`open()`和`close()`方法，简化代码。\n",
    "\n",
    "使用 with 语句，可以自动帮我们调用`open()`和`close()`方法，并保证文件正确关闭。\n",
    "\n",
    "# MySQL 数据库\n",
    "\n",
    "详见参考教程：[MySQL 有这一篇就够](https://blog.csdn.net/weixin_45851945/article/details/114287877)\n"
   ]
  },
  {
   "cell_type": "markdown",
   "metadata": {},
   "source": [
    "# 机器学习库基础\n",
    "\n",
    "## 相关标准库和扩展库\n",
    "\n",
    "用于数据分析、科学计算与可视化的扩展模块主要有：numpy、scipy、pandas、SymPy、matplotlib、Traits、TraitsUI、Chaco、TVTK、Mayavi、VPython、OpenCV。\n",
    "\n",
    "- **numpy**：科学计算包，支持 N 维数组运算、处理大型矩阵、成熟的广播函数库、矢量运算、线性代数、傅里叶变换、随机数生成，并可与 C++/Fortran 语言无缝结合。树莓派 Python v3 默认安装已经包含了 numpy。\n",
    "- **scipy**：scipy 依赖于 numpy，提供了更多的数学工具，包括矩阵运算、线性方程组求解、积分、优化、插值、信号处理、图像处理、统计等等。\n",
    "- **matplotlib** 模块依赖于 numpy 模块和 tkinter 模块，可以绘制多种形式的图形，包括线图、直方图、饼状图、散点图、误差线图等等，图形质量可满足出版要求，是数据可视化的重要工具。\n",
    "- **pandas**（Python Data Analysis Library）是基于 numpy 的数据分析模块，提供了大量标准数据模型和高效操作大型数据集所需要的工具，可以说 pandas 是使得 Python 能够成为高效且强大的数据分析环境的重要因素之一。\n",
    "\n",
    "## Numpy 简单应用\n",
    "\n",
    "### 生成数组"
   ]
  },
  {
   "cell_type": "code",
   "execution_count": null,
   "metadata": {},
   "outputs": [],
   "source": [
    "import numpy as np\n",
    "\n",
    "# 创建数组\n",
    "a = np.array([1, 2, 3])\n",
    "print(a)  # [1 2 3]\n",
    "\n",
    "# 创建 2 维数组\n",
    "b = np.array([[1, 2], [3, 4]])\n",
    "print(b)  # [[1 2]\n",
    "#  [3 4]]\n",
    "\n",
    "\n",
    "# 创建指定范围的数组\n",
    "d = np.arange(10)\n",
    "print(d)  # [0 1 2 3 4 5 6 7 8 9]\n",
    "\n",
    "# 创建指定范围的数组\n",
    "e = np.linspace(0, 1, 5)\n",
    "print(e)  # [0.   0.25 0.5  0.75 1.  ]\n",
    "\n",
    "# 创建随机数组\n",
    "f = np.random.rand(3, 4)\n",
    "print(f)  # [[0.57142857 0.71428571 0.64285714 0.54285714]\n",
    "#  [0.14285714 0.35714286 0.92857143 0.85714286]\n",
    "#  [0.21428571 0.14285714 0.78571429 0.64285714]]\n",
    "\n",
    "# 创建单位矩阵\n",
    "g = np.eye(3)\n",
    "print(g)  # [[1. 0. 0.]\n",
    "#  [0. 1. 0.]\n",
    "#  [0. 0. 1.]]"
   ]
  },
  {
   "cell_type": "markdown",
   "metadata": {},
   "source": [
    "### 测试两个数组是否足够接近"
   ]
  },
  {
   "cell_type": "code",
   "execution_count": null,
   "metadata": {},
   "outputs": [],
   "source": [
    "import numpy as np\n",
    "\n",
    "# 创建数组\n",
    "a = np.array([1, 2, 3])\n",
    "b = np.array([4, 5, 6])\n",
    "\n",
    "# 测试两个数组是否足够接近\n",
    "print(np.allclose(a, b))  # False\n",
    "\n",
    "# 测试两个数组是否足够接近，允许误差为 1e-05\n",
    "print(np.allclose(a, b, rtol=1e-05, atol=1e-08))  # True"
   ]
  },
  {
   "cell_type": "markdown",
   "metadata": {},
   "source": [
    "### 改变数组元素值"
   ]
  },
  {
   "cell_type": "code",
   "execution_count": null,
   "metadata": {},
   "outputs": [],
   "source": [
    "import numpy as np\n",
    "\n",
    "# 创建数组\n",
    "a = np.array([1, 2, 3])\n",
    "\n",
    "# 修改数组元素值\n",
    "a[0] = 5\n",
    "print(a)  # [5 2 3]\n",
    "\n",
    "b = np.array([[1, 2], [3, 4]])\n",
    "b[0, 0] = 5\n",
    "print(b)  # [[5 2]\n",
    "#  [3 4]]\n",
    "\n",
    "# 利用条件语句修改数组元素值\n",
    "a[a > 2] = 0\n",
    "print(a)  # [5 0 0]\n",
    "\n",
    "\n",
    "# 利用条件语句修改数组元素值\n",
    "b[b > 2] = 0\n",
    "print(b)  # [[5 0]\n",
    "#  [0 0]]"
   ]
  },
  {
   "cell_type": "markdown",
   "metadata": {},
   "source": [
    "### 数组运算"
   ]
  },
  {
   "cell_type": "code",
   "execution_count": null,
   "metadata": {},
   "outputs": [],
   "source": [
    "import numpy as np\n",
    "\n",
    "# 创建数组\n",
    "a = np.array([1, 2, 3])\n",
    "b = np.array([4, 5, 6])\n",
    "\n",
    "# 数组加法\n",
    "c = a + b\n",
    "print(c)  # [5 7 9]\n",
    "\n",
    "# 数组减法\n",
    "c = a - b\n",
    "print(c)  # [-3 -3 -3]\n",
    "\n",
    "\n",
    "# 数组乘法\n",
    "c = a * b\n",
    "print(c)  # [ 4 10 18]\n",
    "\n",
    "# 数组除法\n",
    "c = a / b\n",
    "print(c)  # [0.25 0.4  0.5 ]\n",
    "\n",
    "\n",
    "# 数组的幂运算\n",
    "c = a ** 2\n",
    "print(c)  # [1 4 9]\n",
    "\n",
    "# 数组的矩阵乘法\n",
    "A = np.array([[1, 2], [3, 4]])\n",
    "B = np.array([[5, 6], [7, 8]])\n",
    "C = np.dot(A, B)\n",
    "print(C)  # [[19 22]\n",
    "#  [43 50]]"
   ]
  },
  {
   "cell_type": "markdown",
   "metadata": {},
   "source": [
    "### 常用方法"
   ]
  },
  {
   "cell_type": "code",
   "execution_count": null,
   "metadata": {},
   "outputs": [],
   "source": [
    "import numpy as np\n",
    "\n",
    "# 创建数组\n",
    "a = np.array([1, 2, 3])\n",
    "\n",
    "# 数组求和\n",
    "print(np.sum(a))  # 6\n",
    "\n",
    "# 数组求积\n",
    "print(np.prod(a))  # 6\n",
    "\n",
    "# 数组求平均值\n",
    "print(np.mean(a))  # 2.0\n",
    "\n",
    "# 数组求方差\n",
    "print(np.var(a))  # 1.0\n",
    "\n",
    "# 数组求标准差\n",
    "print(np.std(a))  # 1.0\n",
    "\n",
    "# 数组求最大值\n",
    "print(np.max(a))  # 3\n",
    "\n",
    "# 数组求最小值\n",
    "print(np.min(a))  # 1\n",
    "\n",
    "# 数组求排序后的数组\n",
    "print(np.sort(a))  # [1 2 3]\n",
    "\n",
    "# 数组转置\n",
    "print(a.T)  # [1 2 3]\n",
    "\n",
    "# 创建 2 维数组\n",
    "b = np.array([[1, 2], [3, 4]])\n",
    "\n",
    "# 2 维数组的行数\n",
    "print(b.shape[0])  # 2\n",
    "\n",
    "# 2 维数组的列数\n",
    "print(b.shape[1])  # 2\n",
    "\n",
    "# 2 维数组的转置\n",
    "print(b.T)  # [[1 3]\n",
    "#  [2 4]]\n",
    "\n",
    "# 2 维数组的维度\n",
    "print(b.ndim)  # 2"
   ]
  },
  {
   "cell_type": "markdown",
   "metadata": {},
   "source": [
    "### 函数运算"
   ]
  },
  {
   "cell_type": "code",
   "execution_count": null,
   "metadata": {},
   "outputs": [],
   "source": [
    "import numpy as np\n",
    "\n",
    "# 创建数组\n",
    "a = np.array([1, 2, 3])\n",
    "\n",
    "# 数组的正弦值\n",
    "print(np.sin(a))  # [0.84147098 0.90929743 0.14112001]\n",
    "\n",
    "# 数组的余弦值\n",
    "print(np.cos(a))  # [0.54030231 0.31622777 0.9899925 ]\n",
    "\n",
    "# 数组的正切值\n",
    "print(np.tan(a))  # [1.55740772 -2.18503986  0.14254654]\n",
    "\n",
    "# 数组的对数值\n",
    "print(np.log(a))  # [0.        0.69314718 1.09861229]\n",
    "\n",
    "# 数组的指数值\n",
    "print(np.exp(a))  # [ 2.71828183  7.3890561  20.08553692]\n",
    "\n",
    "# 数组的平方根\n",
    "print(np.sqrt(a))  # [1. 1.41421356 1.73205081]\n",
    "\n",
    "# 数组的绝对值\n",
    "print(np.abs(a))  # [1 2 3]\n",
    "\n",
    "# 数组的正弦值\n",
    "print(np.arcsin(a))  # [ 1.57079633  1.04719755  0.32175055]"
   ]
  },
  {
   "cell_type": "markdown",
   "metadata": {},
   "source": [
    "### 改变数组大小"
   ]
  },
  {
   "cell_type": "code",
   "execution_count": null,
   "metadata": {},
   "outputs": [],
   "source": [
    "import numpy as np\n",
    "\n",
    "a = np.array([1, 2, 3])\n",
    "\n",
    "# 数组的维度\n",
    "print(a.shape)  # (3,)\n",
    "\n",
    "# 改变数组的维度\n",
    "a.shape = (1, 3)\n",
    "print(a)  # [[1 2 3]]\n",
    "\n",
    "\n",
    "b = np.array([[1, 2], [3, 4]])\n",
    "\n",
    "# 数组的维度\n",
    "print(b.shape)  # (2, 2)\n",
    "\n",
    "\n",
    "# 改变数组的维度\n",
    "b.shape = (4, 1)\n",
    "print(b)  # [[1]\n",
    "#  [2]\n",
    "#  [3]\n",
    "#  [4]]"
   ]
  },
  {
   "cell_type": "markdown",
   "metadata": {},
   "source": [
    "### 切片"
   ]
  },
  {
   "cell_type": "code",
   "execution_count": null,
   "metadata": {},
   "outputs": [],
   "source": [
    "import numpy as np\n",
    "\n",
    "a = np.array([1, 2, 3, 4, 5, 6, 7, 8, 9])\n",
    "print(a[1:5])  # [2 3 4 5]\n",
    "\n",
    "b = np.array([[1, 2, 3], [4, 5, 6], [7, 8, 9]])\n",
    "print(b[1:3, 1:3])  # [[5 6]\n",
    "#  [8 9]]\n",
    "print(b[1:3, :])  # [[4 5 6]\n",
    "#  [7 8 9]]\n",
    "print(b[:, 1:3])  # [[2 3]\n",
    "#  [5 6]\n",
    "#  [8 9]]"
   ]
  },
  {
   "cell_type": "markdown",
   "metadata": {},
   "source": [
    "### 广播"
   ]
  },
  {
   "cell_type": "code",
   "execution_count": null,
   "metadata": {},
   "outputs": [],
   "source": [
    "import numpy as np\n",
    "\n",
    "a = np.array([1, 2, 3])\n",
    "b = np.array([4, 5, 6])\n",
    "\n",
    "# 数组加法\n",
    "c = a + b\n",
    "print(c)  # [5 7 9]\n",
    "\n",
    "# 数组减法\n",
    "c = a - b\n",
    "print(c)  # [-3 -3 -3]\n",
    "\n",
    "# 数组乘法\n",
    "c = a * b\n",
    "print(c)  # [ 4 10 18]\n",
    "\n",
    "# 数组除法\n",
    "c = a / b\n",
    "print(c)  # [0.25 0.4  0.5 ]"
   ]
  },
  {
   "cell_type": "markdown",
   "metadata": {},
   "source": [
    "### 计算唯一值以及出现次数"
   ]
  },
  {
   "cell_type": "code",
   "execution_count": null,
   "metadata": {},
   "outputs": [],
   "source": [
    "import numpy as np\n",
    "\n",
    "a = np.array([1, 2, 3, 2, 1, 4, 5, 4, 4, 4])\n",
    "\n",
    "# 计算唯一值\n",
    "print(np.unique(a))  # [1 2 3 4 5]\n",
    "\n",
    "# 计算出现次数\n",
    "print(np.bincount(a))  # [1 3 1 4 1]"
   ]
  },
  {
   "cell_type": "markdown",
   "metadata": {},
   "source": [
    "### 矩阵运算"
   ]
  },
  {
   "cell_type": "code",
   "execution_count": null,
   "metadata": {},
   "outputs": [],
   "source": [
    "import numpy as np\n",
    "\n",
    "A = np.array([[1, 2], [3, 4]])\n",
    "B = np.array([[5, 6], [7, 8]])\n",
    "\n",
    "# 矩阵乘法\n",
    "C = np.dot(A, B)\n",
    "print(C)  # [[19 22]\n",
    "#  [43 50]]\n",
    "\n",
    "# 矩阵的逆\n",
    "C = np.linalg.inv(A)\n",
    "print(C)  # [[-2.   1. ]\n",
    "#  [ 1.5 -0.5]]\n",
    "\n",
    "# 矩阵的特征值和特征向量\n",
    "eigenvalues, eigenvectors = np.linalg.eig(A)\n",
    "print(eigenvalues)  # [5. 9.]\n",
    "print(eigenvectors)  # [[-0.70710678 -0.70710678]\n",
    "#  [ 0.70710678  0.70710678]]"
   ]
  },
  {
   "cell_type": "markdown",
   "metadata": {},
   "source": [
    "### 矩阵 QR 分解"
   ]
  },
  {
   "cell_type": "code",
   "execution_count": null,
   "metadata": {},
   "outputs": [],
   "source": [
    "import numpy as np\n",
    "\n",
    "A = np.array([[1, 2], [3, 4]])\n",
    "\n",
    "# 矩阵 QR 分解\n",
    "Q, R = np.linalg.qr(A)\n",
    "print(Q)  # [[-0.70710678 -0.70710678]\n",
    "#  [ 0.70710678  0.70710678]]\n",
    "print(R)  # [[-3. -2.]\n",
    "#  [ 0.  1.]]\n",
    "\n",
    "# 矩阵的逆\n",
    "A_inv = np.linalg.inv(A)\n",
    "\n",
    "# 验证矩阵乘法的正确性\n",
    "A_inv_Q = np.dot(A_inv, Q)\n",
    "print(A_inv_Q)  # [[ 1.  0.]\n",
    "#  [ 0.  1.]]\n",
    "\n",
    "# 验证矩阵乘法的正确性\n",
    "Q_R = np.dot(Q, R)\n",
    "print(Q_R)  # [[-3. -2.]\n",
    "#  [ 0.  1.]]"
   ]
  },
  {
   "cell_type": "markdown",
   "metadata": {},
   "source": [
    "### 矩阵不同维度上的计算\n",
    "\n",
    "1. 矩阵乘法：当两个矩阵的维度不同时，需要进行广播，使得两个矩阵的维度相同。\n",
    "2. 矩阵的逆：当矩阵的维度大于 2 时，无法求逆，需要使用 SVD 分解或其他方法求逆。\n",
    "3. 矩阵的特征值和特征向量：当矩阵的维度大于 2 时，无法求特征值和特征向量，需要使用 SVD 分解或其他方法求解。\n",
    "4. 矩阵 QR 分解：当矩阵的维度大于 2 时，无法进行 QR 分解，需要使用 SVD 分解或其他方法求解。"
   ]
  },
  {
   "cell_type": "code",
   "execution_count": null,
   "metadata": {},
   "outputs": [],
   "source": [
    "import numpy as np\n",
    "\n",
    "A = np.array([[1, 2], [3, 4]])\n",
    "B = np.array([5, 6])\n",
    "\n",
    "# 矩阵乘法\n",
    "C = np.dot(A, B)\n",
    "print(C)  # [17 39]\n",
    "\n",
    "# 矩阵的逆\n",
    "C = np.linalg.inv(A)\n",
    "print(C)  # [[-2.   1. ]\n",
    "#  [ 1.5 -0.5]]\n",
    "\n",
    "# 矩阵的特征值和特征向量\n",
    "eigenvalues, eigenvectors = np.linalg.eig(A)\n",
    "print(eigenvalues)  # [5. 9.]\n",
    "print(eigenvectors)  # [[-0.70710678 -0.70710678]\n",
    "#  [ 0.70710678  0.70710678]]\n",
    "\n",
    "# 矩阵 QR 分解\n",
    "Q, R = np.linalg.qr(A)\n",
    "print(Q)  # [[-0.70710678 -0.70710678]\n",
    "#  [ 0.70710678  0.70710678]]\n",
    "print(R)  # [[-3. -2.]\n",
    "#  [ 0.  1.]]"
   ]
  },
  {
   "cell_type": "markdown",
   "metadata": {},
   "source": [
    "### 常用常量\n",
    "\n",
    "- `np.pi`：圆周率\n",
    "- `np.inf`：正无穷大\n",
    "- `np.nan`：非数值（Not a Number）\n",
    "- `np.e`：自然常数\n",
    "- `np.NINF`：负无穷大\n",
    "- `np.PZERO`：正零\n",
    "- `np.NZERO`：负零\n",
    "\n",
    "## scipy 简单应用\n",
    "\n",
    "scipy 主要模块：\n",
    "\n",
    "| 模块        | 说明                                                                                                                                                |\n",
    "| ----------- | --------------------------------------------------------------------------------------------------------------------------------------------------- |\n",
    "| constants   | 常数                                                                                                                                                |\n",
    "| special     | 特殊函数                                                                                                                                            |\n",
    "| optimize    | 数值优化算法，如最小二乘拟合（leastsq）、函数最小值（fmin 系列）、非线性方程组求解（fsolve）等等                                                    |\n",
    "| interpolate | 插值（interp1d、interp2d 等等）                                                                                                                     |\n",
    "| integrate   | 数值积分                                                                                                                                            |\n",
    "| signal      | 信号处理                                                                                                                                            |\n",
    "| ndimage     | 图像处理，包括滤波器模块 filters、傅里叶变换模块 fourier、图像插值模块 interpolation、图像测量模块 measurements、形态学图像处理模块 morphology 等等 |\n",
    "| stats       | 统计                                                                                                                                                |\n",
    "| misc        | 提供读取图像文件的方法和一些测试图像                                                                                                                |\n",
    "| io          | 提供读取 Matlab 和 Fortran 文件的方法                                                                                                               |\n",
    "\n",
    "### 科学计算的常数\n",
    "\n",
    "- `scipy.constants.e`：自然常数\n",
    "- `scipy.constants.m_e`：电子质量\n",
    "- `scipy.constants.c`：光速\n",
    "- `scipy.constants.h`：普朗克常数\n",
    "- `scipy.constants.k`：玻尔兹曼常数\n",
    "- `scipy.constants.G`：万有引力常数\n",
    "- `scipy.constants.pi`：圆周率\n",
    "\n",
    "### 常用函数\n",
    "\n",
    "- `scipy.special.cbrt(x)`：计算 x 的立方根\n",
    "- `scipy.special.exp1(x)`：计算 e 的 x 次幂\n",
    "- `scipy.special.expn(n, x)`：计算 e 的 n 次幂\n",
    "- `scipy.special.gammaln(x)`：计算 x 的伽玛函数的自然对数\n",
    "- `scipy.special.loggamma(x)`：计算 x 的伽玛函数的对数\n",
    "- `scipy.special.erf(x)`：计算误差函数\n",
    "- `scipy.special.erfc(x)`：计算补充误差函数\n",
    "- `scipy.special.erfinv(x)`：计算 x 的反正切值\n",
    "\n",
    "## 数据分析模块 pandas\n",
    "\n",
    "pandas 主要提供了 3 种数据结构：1）Series，带标签的一维数组；2）DataFrame，带标签且大小可变的二维表格结构；3）Panel，带标签且大小可变的三维数组。\n",
    "\n",
    "### 生成一维数组"
   ]
  },
  {
   "cell_type": "code",
   "execution_count": null,
   "metadata": {},
   "outputs": [],
   "source": [
    "import pandas as pd\n",
    "\n",
    "# 生成一维数组\n",
    "s = pd.Series([1, 2, 3, 4, 5])\n",
    "print(s)  # 0    1\n",
    "# 1    2\n",
    "# 2    3\n",
    "# 3    4\n",
    "# 4    5\n",
    "# dtype: int64"
   ]
  },
  {
   "cell_type": "markdown",
   "metadata": {},
   "source": [
    "### 生成 DataFrame"
   ]
  },
  {
   "cell_type": "code",
   "execution_count": null,
   "metadata": {},
   "outputs": [],
   "source": [
    "import pandas as pd\n",
    "\n",
    "# 生成 DataFrame\n",
    "df = pd.DataFrame({'A': [1, 2, 3], 'B': [4, 5, 6]})\n",
    "print(df)  # A  B\n",
    "# 0  1  4\n",
    "# 1  2  5\n",
    "# 2  3  6"
   ]
  },
  {
   "cell_type": "markdown",
   "metadata": {},
   "source": [
    "### 二维数据查看"
   ]
  },
  {
   "cell_type": "code",
   "execution_count": null,
   "metadata": {},
   "outputs": [],
   "source": [
    "import pandas as pd\n",
    "\n",
    "# 生成 DataFrame\n",
    "df = pd.DataFrame({'A': [1, 2, 3], 'B': [4, 5, 6]})\n",
    "\n",
    "# 列名\n",
    "print(df.columns)  # Index(['A', 'B'], dtype='object')\n",
    "\n",
    "# 行名\n",
    "print(df.index)  # RangeIndex(start=0, stop=3, step=1)\n",
    "\n",
    "# 值\n",
    "print(df.values)  # [[1 4]\n",
    "#  [2 5]\n",
    "#  [3 6]]\n",
    "\n",
    "# 行数\n",
    "print(len(df))  # 3\n",
    "\n",
    "# 列数\n",
    "print(df.shape[1])  # 2"
   ]
  },
  {
   "cell_type": "markdown",
   "metadata": {},
   "source": [
    "### 查看二维数据的索引、列名和数据"
   ]
  },
  {
   "cell_type": "code",
   "execution_count": null,
   "metadata": {},
   "outputs": [],
   "source": [
    "import pandas as pd\n",
    "\n",
    "# 生成 DataFrame\n",
    "df = pd.DataFrame({'A': [1, 2, 3], 'B': [4, 5, 6]})\n",
    "\n",
    "# 列名\n",
    "print(df.columns)  # Index(['A', 'B'], dtype='object')\n",
    "\n",
    "# 行名\n",
    "print(df.index)  # RangeIndex(start=0, stop=3, step=1)\n",
    "\n",
    "# 值\n",
    "print(df.values)  # [[1 4]\n",
    "#  [2 5]\n",
    "#  [3 6]]\n",
    "\n",
    "# 行数\n",
    "print(len(df))  # 3\n",
    "\n",
    "# 列数\n",
    "print(df.shape[1])  # 2"
   ]
  },
  {
   "cell_type": "markdown",
   "metadata": {},
   "source": [
    "### 查看数据的统计信息"
   ]
  },
  {
   "cell_type": "markdown",
   "metadata": {},
   "source": [
    "import pandas as pd\n",
    "\n",
    "# 生成 DataFrame\n",
    "df = pd.DataFrame({'A': [1, 2, 3], 'B': [4, 5, 6]})\n",
    "\n",
    "# 统计信息\n",
    "print(df.describe())"
   ]
  },
  {
   "cell_type": "markdown",
   "metadata": {},
   "source": [
    "### 二维数据转置"
   ]
  },
  {
   "cell_type": "code",
   "execution_count": null,
   "metadata": {},
   "outputs": [],
   "source": [
    "import pandas as pd\n",
    "\n",
    "# 生成 DataFrame\n",
    "df = pd.DataFrame({'A': [1, 2, 3], 'B': [4, 5, 6]})\n",
    "\n",
    "# 转置\n",
    "df_T = df.T\n",
    "print(df_T)"
   ]
  },
  {
   "cell_type": "markdown",
   "metadata": {},
   "source": [
    "### 排序"
   ]
  },
  {
   "cell_type": "code",
   "execution_count": null,
   "metadata": {},
   "outputs": [],
   "source": [
    "import pandas as pd\n",
    "\n",
    "# 生成 DataFrame\n",
    "df = pd.DataFrame({'A': [1, 2, 3], 'B': [4, 5, 6]})\n",
    "\n",
    "# 排序\n",
    "df_sorted = df.sort_values(by='A')\n",
    "print(df_sorted)"
   ]
  },
  {
   "cell_type": "markdown",
   "metadata": {},
   "source": [
    "### 选择数据"
   ]
  },
  {
   "cell_type": "code",
   "execution_count": null,
   "metadata": {},
   "outputs": [],
   "source": [
    "import pandas as pd\n",
    "\n",
    "# 生成 DataFrame\n",
    "df = pd.DataFrame({'A': [1, 2, 3], 'B': [4, 5, 6]})\n",
    "\n",
    "# 选择数据\n",
    "df_A = df['A']\n",
    "print(df_A)  # 0    1\n",
    "# 1    2\n",
    "# 2    3\n",
    "# Name: A, dtype: int64\n",
    "\n",
    "# 选择数据\n",
    "df_AB = df[['A', 'B']]\n",
    "print(df_AB)"
   ]
  },
  {
   "cell_type": "markdown",
   "metadata": {},
   "source": [
    "### 数据修改"
   ]
  },
  {
   "cell_type": "code",
   "execution_count": null,
   "metadata": {},
   "outputs": [],
   "source": [
    "import pandas as pd\n",
    "\n",
    "# 生成 DataFrame\n",
    "df = pd.DataFrame({'A': [1, 2, 3], 'B': [4, 5, 6]})\n",
    "\n",
    "# 修改数据\n",
    "df['A'] = [10, 20, 30]\n",
    "print(df)\n",
    "\n",
    "# 修改数据\n",
    "df.loc[0, 'A'] = 100\n",
    "print(df)"
   ]
  },
  {
   "cell_type": "markdown",
   "metadata": {},
   "source": [
    "### 缺失值处理"
   ]
  },
  {
   "cell_type": "code",
   "execution_count": null,
   "metadata": {},
   "outputs": [],
   "source": [
    "import pandas as pd\n",
    "\n",
    "# 生成 DataFrame\n",
    "df = pd.DataFrame({'A': [1, 2, 3], 'B': [4, 5, 6], 'C': [7, 8, 9]})\n",
    "\n",
    "# 缺失值处理\n",
    "df_dropna = df.dropna()\n",
    "print(df_dropna)\n",
    "\n",
    "\n",
    "# 缺失值处理\n",
    "df_fillna = df.fillna(value=0)\n",
    "print(df_fillna)"
   ]
  },
  {
   "cell_type": "markdown",
   "metadata": {},
   "source": [
    "### 其他常用操作\n",
    "\n",
    "- `df.head(n)`：查看前 n 行数据\n",
    "- `df.tail(n)`：查看后 n 行数据\n",
    "- `df.sample(n)`：随机抽样 n 行数据\n",
    "- `df.groupby(by)`：按 by 列进行分组\n",
    "- `df.merge(other, on)`：合并两个 DataFrame\n",
    "- `df.pivot_table(index, columns, values)`：生成透视表\n",
    "- `df.plot(kind)`：绘制图表\n",
    "- `df.cut(data, category, right=False)`：数据离散化\n",
    "\n",
    "## matplotlib 简单应用\n",
    "\n",
    "matplotlib 模块依赖于 numpy 模块和 tkinter 模块，可以绘制多种形式的图形，包括线图、直方图、饼状图、散点图、误差线图等等。\n",
    "\n",
    "matplotlib 库提供的图形非常多，用到相关功能的时候再去查阅文档即可。\n",
    "\n",
    "### 常用 API\n",
    "\n",
    "- `matplotlib.pyplot.plot(x, y)`：绘制线图\n",
    "- `matplotlib.pyplot.hist(x, bins=10)`：绘制直方图\n",
    "- `matplotlib.pyplot.bar(x, y)`：绘制条形图\n",
    "- `matplotlib.pyplot.scatter(x, y)`：绘制散点图\n",
    "- `matplotlib.pyplot.errorbar(x, y, yerr)`：绘制误差线图\n",
    "- `matplotlib.pyplot.pie(x, explode)`：绘制饼状图\n",
    "- `matplotlib.pyplot.imshow(x)`：绘制图像\n",
    "- `matplotlib.pyplot.show()`：显示图形"
   ]
  },
  {
   "cell_type": "code",
   "execution_count": null,
   "metadata": {},
   "outputs": [],
   "source": [
    "import matplotlib.pyplot as plt\n",
    "\n",
    "# 生成数据\n",
    "x = [1, 2, 3, 4, 5]\n",
    "y = [2, 4, 6, 8, 10]\n",
    "\n",
    "# 绘制线图\n",
    "plt.plot(x, y)\n",
    "plt.show()\n",
    "\n",
    "# 绘制直方图\n",
    "plt.hist(y, bins=5)\n",
    "plt.show()"
   ]
  },
  {
   "cell_type": "markdown",
   "metadata": {},
   "source": [
    "# 课后习题\n",
    "\n",
    "## 题目列表\n",
    "\n",
    "1. 有两个列表，在列表一中删除列表二中出现的元素\n",
    "2. 编写程序，生成包含 1000 个 1—100 之间的随机整数，并统计每个元素的出现次数。\n",
    "3. 用户输入一个列表和两个整数作为下标，然后使用切片获取并输出列表中结余两个下标之间的元素组成的子列表。例如，用户输入 \\[1,2,3,4,5,6\\]和 2,5，程序输出\\[3,4,5\\]。\n",
    "4. 将字符串中单词和单词出现的次数保存到字典中\n",
    "5. 编写程序，生成包含 20 个随机数的列表，然后将前 10 个元素升序排列，后 10 个元素降序排列，并输出结果。\n",
    "6. 输入若干个成绩，现在需要计算所有成绩的最高分、最低分、平均分，并查找所有最高分同学。每输入一个成绩后询问是否继续输入下一个成绩，回答“yes”就继续输入下一个成绩，回答“no”就停止输入成绩。编写程序实现上述功能\n",
    "7. 编写程序，至少用两种方法求 100 以内的所有奇数的和。\n",
    "8. 编写程序，生成包含 50 个随机整数的列表，删除其中最大的素数。\n",
    "9. 假设有一段英文，其中单独的字母 I 误写为 i，请编写程序进行纠正\n",
    "10. 编写程序，接收键盘输入字符串，删除字符串中多余的空白字符，连续多个空白字符只保留一个。\n",
    "11. 用户输入一段英文，然后输出这段英文中所有长度为 5 的英文单词\n",
    "12. 假设有一个英文文本文件，编写程序读取其内容，并将其中的大写字母变为小写字母，小写字母变为大写字母\n",
    "13. 已知某科目学生成绩等级和对应人数分别为[A, B, C, D, E] [10, 20, 30, 25, 5]，利用 matplotlib 绘制柱状图，横坐标的文字说明为“Grade”， 纵坐标的文字说明“Number”， 标题为“Distribution of grades”\n",
    "\n",
    "## 1.删除列表元素\n",
    "\n",
    "> 有两个列表，在列表一中删除列表二中出现的元素"
   ]
  },
  {
   "cell_type": "code",
   "execution_count": null,
   "metadata": {},
   "outputs": [],
   "source": [
    "# 题目没给列表，这里假设一些数据\n",
    "list1 = [1, 2, 3, 4, 5]\n",
    "list2 = [2, 4]\n",
    "\n",
    "# 使用列表推导式简化代码\n",
    "result = [x for x in list1 if x not in list2]\n",
    "print(result)"
   ]
  },
  {
   "cell_type": "markdown",
   "metadata": {},
   "source": [
    "## 2.随机整数生成及统计\n",
    "\n",
    "> 编写程序，生成包含 1000 个 1—100 之间的随机整数，并统计每个元素的出现次数。\n",
    "\n",
    "### 2.1 借助 collections 库"
   ]
  },
  {
   "cell_type": "code",
   "execution_count": null,
   "metadata": {},
   "outputs": [],
   "source": [
    "import random\n",
    "from collections import Counter\n",
    "\n",
    "# 生成随机数\n",
    "random_nums = [random.randint(1, 100) for i in range(1000)]\n",
    "print(random_nums)\n",
    "\n",
    "# 统计随机数出现的次数\n",
    "count = Counter(random_nums)\n",
    "print(count)"
   ]
  },
  {
   "cell_type": "markdown",
   "metadata": {},
   "source": [
    "### 2.2 手动实现统计"
   ]
  },
  {
   "cell_type": "code",
   "execution_count": null,
   "metadata": {},
   "outputs": [],
   "source": [
    "import random\n",
    "\n",
    "# 生成随机数\n",
    "random_nums = [random.randint(1, 100) for i in range(1000)]\n",
    "print(random_nums)\n",
    "\n",
    "# 哈希统计\n",
    "count_dict = {}\n",
    "for num in random_nums:\n",
    "    if num in count_dict:\n",
    "        count_dict[num] += 1\n",
    "    else:\n",
    "        count_dict[num] = 1\n",
    "print(count_dict)"
   ]
  },
  {
   "cell_type": "markdown",
   "metadata": {},
   "source": [
    "## 3.列表切片\n",
    "\n",
    "> 用户输入一个列表和两个整数作为下标，然后使用切片获取并输出列表中结余两个下标之间的元素组成的子列表。例如，用户输入 \\[1,2,3,4,5,6\\]和 2,5，程序输出\\[3,4,5\\]。"
   ]
  },
  {
   "cell_type": "code",
   "execution_count": null,
   "metadata": {},
   "outputs": [],
   "source": [
    "# 获取输入\n",
    "list = \"1,2,3,4,5,6\"  # list = input(\"请输入一个列表：\")\n",
    "list = list.replace(\" \", \"\").split(\",\")  # 转化为列表\n",
    "list = [int(i) for i in list]  # 转化为整数列表\n",
    "\n",
    "indexes = \"2,5\"  # indexes = input(\"请输入两个整数作为下标：\")\n",
    "indexes = indexes.replace(\" \", \"\").split(\",\")  # 转化为列表\n",
    "indexes = [int(i) for i in indexes]  # 转化为整数列表\n",
    "\n",
    "# 切片\n",
    "list = list[indexes[0]:indexes[1]]\n",
    "print(list)"
   ]
  },
  {
   "cell_type": "markdown",
   "metadata": {},
   "source": [
    "## 4.字符串处理\n",
    "\n",
    "> 将字符串中单词和单词出现的次数保存到字典中\n",
    "\n",
    "### 4.1 借助 collections 库"
   ]
  },
  {
   "cell_type": "code",
   "execution_count": null,
   "metadata": {},
   "outputs": [],
   "source": [
    "import re\n",
    "from collections import Counter\n",
    "\n",
    "# 题目没给列表，这里假设一些数据\n",
    "text = \"Hello world, this is a test.\"\n",
    "\n",
    "# 统计\n",
    "text = text.lower()  # 转为小写\n",
    "count = Counter(re.split(r'[\\s.,!?;:]', text))  # 枚举常用的标点符号进行分割，使用正则表达式优化代码\n",
    "count.pop('', None)  # 去除空白符\n",
    "print(count)"
   ]
  },
  {
   "cell_type": "markdown",
   "metadata": {},
   "source": [
    "### 4.2 手动实现统计"
   ]
  },
  {
   "cell_type": "code",
   "execution_count": null,
   "metadata": {},
   "outputs": [],
   "source": [
    "import re\n",
    "\n",
    "# 题目没给列表，这里假设一些数据\n",
    "text = \"Hello world, this is a test.\"\n",
    "\n",
    "# 处理字符串\n",
    "text = text.lower()  # 转为小写\n",
    "text = re.split(r'[\\s.,!?;:]', text)  # 枚举常用的标点符号进行分割，使用正则表达式优化代码\n",
    "\n",
    "# 统计词频\n",
    "count = {}\n",
    "for word in text:\n",
    "    if word in count:\n",
    "        count[word] += 1\n",
    "    else:\n",
    "        count[word] = 1\n",
    "print(count)"
   ]
  },
  {
   "cell_type": "markdown",
   "metadata": {},
   "source": [
    "## 5.列表排序\n",
    "\n",
    "> 编写程序，生成包含 20 个随机数的列表，然后将前 10 个元素升序排列，后 10 个元素降序排列，并输出结果。"
   ]
  },
  {
   "cell_type": "code",
   "execution_count": null,
   "metadata": {},
   "outputs": [],
   "source": [
    "import random\n",
    "\n",
    "# 生成列表\n",
    "list = [random.randint(0, 100) for i in range(20)]\n",
    "print(list)\n",
    "\n",
    "# 排序\n",
    "list = sorted(list[:10]) + sorted(list[10:], reverse=True)\n",
    "print(list)"
   ]
  },
  {
   "cell_type": "markdown",
   "metadata": {},
   "source": [
    "## 6.年轻人的第一款Python打分系统\n",
    "\n",
    "> 输入若干个成绩，现在需要计算所有成绩的最高分、最低分、平均分，并查找所有最高分同学。每输入一个成绩后询问是否继续输入下一个成绩，回答“yes”就继续输入下一个成绩，回答“no”就停止输入成绩。编写程序实现上述功能"
   ]
  },
  {
   "cell_type": "code",
   "execution_count": null,
   "metadata": {},
   "outputs": [],
   "source": [
    "scores = []\n",
    "while True:\n",
    "    # 输入成绩\n",
    "    score = input(\"请输入成绩：\")\n",
    "    scores.append(int(score))\n",
    "\n",
    "    # 计算最高分、最低分、平均分\n",
    "    highest_score = max(scores)\n",
    "    lowest_score = min(scores)\n",
    "    average_score = sum(scores) / len(scores)\n",
    "    print(\"最高分：\", highest_score, \"最低分：\", lowest_score, \"平均分：\", average_score)\n",
    "\n",
    "    # 查找最高分同学\n",
    "    highest_students = [i for i, score in enumerate(scores) if score == highest_score]  # 找出所有最高分同学的索引\n",
    "    print(\"最高分同学索引：\", highest_students)\n",
    "\n",
    "    # 询问是否继续输入下一个成绩\n",
    "    answer = input(\"是否继续输入下一个成绩？（yes/no）\")\n",
    "    if answer.lower() == \"no\":\n",
    "        break"
   ]
  },
  {
   "cell_type": "markdown",
   "metadata": {},
   "source": [
    "## 7.求奇数和\n",
    "\n",
    "> 编写程序，至少用两种方法求 100 以内的所有奇数的和。\n",
    "\n",
    "### 7.1 列表解析"
   ]
  },
  {
   "cell_type": "code",
   "execution_count": null,
   "metadata": {},
   "outputs": [],
   "source": [
    "s = sum([i for i in range(1, 100) if i % 2 != 0])\n",
    "print(s)"
   ]
  },
  {
   "cell_type": "markdown",
   "metadata": {},
   "source": [
    "### 7.2 range步长"
   ]
  },
  {
   "cell_type": "code",
   "execution_count": null,
   "metadata": {},
   "outputs": [],
   "source": [
    "s = sum(range(1, 100, 2))\n",
    "print(s)"
   ]
  },
  {
   "cell_type": "markdown",
   "metadata": {},
   "source": [
    "## 8.删除最大素数\n",
    "\n",
    "> 编写程序，生成包含 50 个随机整数的列表，删除其中最大的素数。"
   ]
  },
  {
   "cell_type": "code",
   "execution_count": null,
   "metadata": {},
   "outputs": [],
   "source": [
    "import random\n",
    "\n",
    "\n",
    "# 判断是否为素数\n",
    "def is_prime(n):\n",
    "    if n < 2:\n",
    "        return False\n",
    "    for i in range(2, int(n**0.5) + 1):\n",
    "        if n % i == 0:\n",
    "            return False\n",
    "    return True\n",
    "\n",
    "\n",
    "# 生成列表\n",
    "list = [random.randint(2, 1000) for i in range(50)]\n",
    "print(list)\n",
    "\n",
    "# 筛选删除最大的素数的列表\n",
    "primes = [x for x in list if is_prime(x)]\n",
    "if primes:\n",
    "    primes.pop()\n",
    "print(primes)"
   ]
  },
  {
   "cell_type": "markdown",
   "metadata": {},
   "source": [
    "## 9.大小写转换\n",
    "\n",
    "> 假设有一段英文，其中单独的字母 I 误写为 i，请编写程序进行纠正"
   ]
  },
  {
   "cell_type": "code",
   "execution_count": null,
   "metadata": {},
   "outputs": [],
   "source": [
    "# 题目没给列表，这里假设一些数据\n",
    "text = \"i am an i in the middle of a sentence.\"\n",
    "\n",
    "# 将所有出现的 \"i\" 改为 \"I\"\n",
    "text = text.replace(\" i \", \" I \")\n",
    "print(text)"
   ]
  },
  {
   "cell_type": "markdown",
   "metadata": {},
   "source": [
    "## 10.删除多余空白符\n",
    "\n",
    "> 编写程序，接收键盘输入字符串，删除字符串中多余的空白字符，连续多个空白字符只保留一个。\n",
    "\n",
    "### 10.1 借助正则表达式"
   ]
  },
  {
   "cell_type": "code",
   "execution_count": null,
   "metadata": {},
   "outputs": [],
   "source": [
    "import re\n",
    "\n",
    "s = \"    This   is  an example   string.  \"  # s = input()\n",
    "\n",
    "# 将多个空格替换为单个空格\n",
    "s = re.sub(r'\\s+', ' ', s).strip()\n",
    "print(s)"
   ]
  },
  {
   "cell_type": "markdown",
   "metadata": {},
   "source": [
    "### 10.2 手动实现空白符删减"
   ]
  },
  {
   "cell_type": "code",
   "execution_count": null,
   "metadata": {},
   "outputs": [],
   "source": [
    "s = \"    This   is  an example   string.  \"  # s = input()\n",
    "\n",
    "result = ''\n",
    "in_spaces = False\n",
    "for char in s:\n",
    "    # 如果遇到空格，且之前没有遇到空格，则添加一个空格\n",
    "    if char.isspace():\n",
    "        if not in_spaces:\n",
    "            result += ' '\n",
    "            in_spaces = True\n",
    "    # 否则，添加字符，并重置空格标志\n",
    "    else:\n",
    "        result += char\n",
    "        in_spaces = False\n",
    "result = result.strip()  # 去掉开头和结尾的空格\n",
    "print(result)"
   ]
  },
  {
   "cell_type": "markdown",
   "metadata": {},
   "source": [
    "## 11.匹配指定长度单词\n",
    "\n",
    "> 用户输入一段英文，然后输出这段英文中所有长度为 5 的英文单词\n",
    "\n",
    "### 11.1 借助正则表达式"
   ]
  },
  {
   "cell_type": "code",
   "execution_count": null,
   "metadata": {},
   "outputs": [],
   "source": [
    "import re\n",
    "\n",
    "text = \"The quick brown fox jumps over those lazy dogs.\"  # text = input()\n",
    "target_words = [re.findall(r'\\b\\w{5}\\b', text)]  # 匹配5个字母的单词\n",
    "print(target_words)"
   ]
  },
  {
   "cell_type": "markdown",
   "metadata": {},
   "source": [
    "### 11.2 手动实现单词长度检测"
   ]
  },
  {
   "cell_type": "code",
   "execution_count": null,
   "metadata": {},
   "outputs": [],
   "source": [
    "text = \"The quick brown fox jumps over those lazy dogs.\"  # text = input()\n",
    "target_words = [word for word in text.replace(\".\", \"\").replace(\",\", \"\").replace(\"!\", \"\").replace(\"?\", \"\").split() if len(word) == 5]  # 去除标点符号，分词，筛选长度为5的词\n",
    "print(target_words)"
   ]
  },
  {
   "cell_type": "markdown",
   "metadata": {},
   "source": [
    "## 12.读取文件内容并修改大小写\n",
    "\n",
    "> 假设有一个英文文本文件，编写程序读取其内容，并将其中的大写字母变为小写字母，小写字母变为大写字母\n",
    "\n",
    "**在线平台可能无法正常读取文件，请尝试在本地运行该代码**"
   ]
  },
  {
   "cell_type": "code",
   "execution_count": null,
   "metadata": {},
   "outputs": [],
   "source": [
    "# 读取文档内容\n",
    "with open(r'./path-to-your-file/text.txt', 'r') as file:\n",
    "    text = file.read()\n",
    "print(text)\n",
    "\n",
    "# 转换大小写\n",
    "swapped_text = text.swapcase()\n",
    "print(swapped_text)\n",
    "\n",
    "with open(r'./path-to-your-file/text.txt', 'w') as file:\n",
    "    file.write(swapped_text)"
   ]
  },
  {
   "cell_type": "markdown",
   "metadata": {},
   "source": [
    "## 13.绘制柱状图\n",
    "\n",
    "> 已知某科目学生成绩等级和对应人数分别为[A, B, C, D, E] [10, 20, 30, 25, 5]，利用 matplotlib 绘制柱状图，横坐标的文字说明为“Grade”， 纵坐标的文字说明“Number”， 标题为“Distribution of grades”"
   ]
  },
  {
   "cell_type": "code",
   "execution_count": null,
   "metadata": {},
   "outputs": [],
   "source": [
    "import matplotlib.pyplot as plt\n",
    "\n",
    "# 初始化数据\n",
    "grades = ['A', 'B', 'C', 'D', 'E']\n",
    "numbers = [10, 20, 30, 25, 5]\n",
    "\n",
    "# 绘制条形图\n",
    "plt.bar(grades, numbers)\n",
    "plt.xlabel('Grade')\n",
    "plt.ylabel('Number')\n",
    "plt.title('Distribution of grades')\n",
    "\n",
    "# 显示图形\n",
    "plt.show()"
   ]
  }
 ],
 "metadata": {
  "kernelspec": {
   "display_name": "base",
   "language": "python",
   "name": "python3"
  },
  "language_info": {
   "codemirror_mode": {
    "name": "ipython",
    "version": 3
   },
   "file_extension": ".py",
   "mimetype": "text/x-python",
   "name": "python",
   "nbconvert_exporter": "python",
   "pygments_lexer": "ipython3",
   "version": "3.12.4"
  }
 },
 "nbformat": 4,
 "nbformat_minor": 2
}
